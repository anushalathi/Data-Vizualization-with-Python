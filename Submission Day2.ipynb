{
 "cells": [
  {
   "cell_type": "markdown",
   "id": "illegal-prerequisite",
   "metadata": {},
   "source": [
    "\n",
    "Create a dataframe with 10 rows on random numbers & 4 columns(labelled as a,b,c,d) & plot a bar chart."
   ]
  },
  {
   "cell_type": "code",
   "execution_count": 1,
   "id": "hollow-heavy",
   "metadata": {},
   "outputs": [],
   "source": [
    "import numpy as np\n",
    "import matplotlib as mpl\n",
    "import pandas as pd\n",
    "import matplotlib as mpl\n",
    "import matplotlib.pyplot as plt\n",
    "import seaborn as sns\n",
    "from numpy.random import randn,randint,uniform,sample\n",
    "%matplotlib inline"
   ]
  },
  {
   "cell_type": "code",
   "execution_count": 2,
   "id": "separate-maximum",
   "metadata": {},
   "outputs": [
    {
     "data": {
      "text/html": [
       "<div>\n",
       "<style scoped>\n",
       "    .dataframe tbody tr th:only-of-type {\n",
       "        vertical-align: middle;\n",
       "    }\n",
       "\n",
       "    .dataframe tbody tr th {\n",
       "        vertical-align: top;\n",
       "    }\n",
       "\n",
       "    .dataframe thead th {\n",
       "        text-align: right;\n",
       "    }\n",
       "</style>\n",
       "<table border=\"1\" class=\"dataframe\">\n",
       "  <thead>\n",
       "    <tr style=\"text-align: right;\">\n",
       "      <th></th>\n",
       "      <th>a</th>\n",
       "      <th>b</th>\n",
       "      <th>c</th>\n",
       "      <th>d</th>\n",
       "    </tr>\n",
       "  </thead>\n",
       "  <tbody>\n",
       "    <tr>\n",
       "      <th>0</th>\n",
       "      <td>-1.172964</td>\n",
       "      <td>0.485598</td>\n",
       "      <td>0.164724</td>\n",
       "      <td>1.538221</td>\n",
       "    </tr>\n",
       "    <tr>\n",
       "      <th>1</th>\n",
       "      <td>-0.950810</td>\n",
       "      <td>-1.461338</td>\n",
       "      <td>-0.923918</td>\n",
       "      <td>0.823839</td>\n",
       "    </tr>\n",
       "    <tr>\n",
       "      <th>2</th>\n",
       "      <td>-0.628755</td>\n",
       "      <td>-1.564839</td>\n",
       "      <td>0.631297</td>\n",
       "      <td>0.815080</td>\n",
       "    </tr>\n",
       "    <tr>\n",
       "      <th>3</th>\n",
       "      <td>0.912648</td>\n",
       "      <td>-0.154682</td>\n",
       "      <td>-1.127435</td>\n",
       "      <td>-0.418376</td>\n",
       "    </tr>\n",
       "    <tr>\n",
       "      <th>4</th>\n",
       "      <td>1.532254</td>\n",
       "      <td>0.417768</td>\n",
       "      <td>-0.534674</td>\n",
       "      <td>1.500636</td>\n",
       "    </tr>\n",
       "    <tr>\n",
       "      <th>5</th>\n",
       "      <td>-0.036685</td>\n",
       "      <td>-0.182389</td>\n",
       "      <td>0.901144</td>\n",
       "      <td>-1.036121</td>\n",
       "    </tr>\n",
       "    <tr>\n",
       "      <th>6</th>\n",
       "      <td>-0.410576</td>\n",
       "      <td>-0.352782</td>\n",
       "      <td>-0.949299</td>\n",
       "      <td>0.598335</td>\n",
       "    </tr>\n",
       "    <tr>\n",
       "      <th>7</th>\n",
       "      <td>0.106283</td>\n",
       "      <td>1.980820</td>\n",
       "      <td>0.765267</td>\n",
       "      <td>-0.400715</td>\n",
       "    </tr>\n",
       "    <tr>\n",
       "      <th>8</th>\n",
       "      <td>-0.048411</td>\n",
       "      <td>-0.783712</td>\n",
       "      <td>-0.600273</td>\n",
       "      <td>-0.737818</td>\n",
       "    </tr>\n",
       "    <tr>\n",
       "      <th>9</th>\n",
       "      <td>-2.010080</td>\n",
       "      <td>1.809515</td>\n",
       "      <td>0.986833</td>\n",
       "      <td>0.639344</td>\n",
       "    </tr>\n",
       "  </tbody>\n",
       "</table>\n",
       "</div>"
      ],
      "text/plain": [
       "          a         b         c         d\n",
       "0 -1.172964  0.485598  0.164724  1.538221\n",
       "1 -0.950810 -1.461338 -0.923918  0.823839\n",
       "2 -0.628755 -1.564839  0.631297  0.815080\n",
       "3  0.912648 -0.154682 -1.127435 -0.418376\n",
       "4  1.532254  0.417768 -0.534674  1.500636\n",
       "5 -0.036685 -0.182389  0.901144 -1.036121\n",
       "6 -0.410576 -0.352782 -0.949299  0.598335\n",
       "7  0.106283  1.980820  0.765267 -0.400715\n",
       "8 -0.048411 -0.783712 -0.600273 -0.737818\n",
       "9 -2.010080  1.809515  0.986833  0.639344"
      ]
     },
     "execution_count": 2,
     "metadata": {},
     "output_type": "execute_result"
    }
   ],
   "source": [
    "df = pd.DataFrame(randn(10,4),columns=['a','b','c','d'])\n",
    "df"
   ]
  },
  {
   "cell_type": "code",
   "execution_count": 3,
   "id": "serial-christian",
   "metadata": {},
   "outputs": [
    {
     "data": {
      "text/plain": [
       "Text(0.5, 1.0, 'Bar Graph')"
      ]
     },
     "execution_count": 3,
     "metadata": {},
     "output_type": "execute_result"
    },
    {
     "data": {
      "image/png": "[encoded data removed]",
      "text/plain": [
       "<Figure size 864x720 with 1 Axes>"
      ]
     },
     "metadata": {
      "needs_background": "light"
     },
     "output_type": "display_data"
    }
   ],
   "source": [
    "df.plot(kind='bar',width=(3),figsize=(12,10))\n",
    "plt.title('Bar Graph')"
   ]
  },
  {
   "cell_type": "code",
   "execution_count": null,
   "id": "romance-newsletter",
   "metadata": {},
   "outputs": [],
   "source": []
  }
 ],
 "metadata": {
  "kernelspec": {
   "display_name": "Python 3",
   "language": "python",
   "name": "python3"
  },
  "language_info": {
   "codemirror_mode": {
    "name": "ipython",
    "version": 3
   },
   "file_extension": ".py",
   "mimetype": "text/x-python",
   "name": "python",
   "nbconvert_exporter": "python",
   "pygments_lexer": "ipython3",
   "version": "3.7.8"
  }
 },
 "nbformat": 4,
 "nbformat_minor": 5
}
